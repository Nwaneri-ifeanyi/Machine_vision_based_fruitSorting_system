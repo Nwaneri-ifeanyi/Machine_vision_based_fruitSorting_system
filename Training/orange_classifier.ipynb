{
 "cells": [
  {
   "cell_type": "markdown",
   "id": "9e5e0ae2",
   "metadata": {},
   "source": [
    "# Importing Neccessary Libraries"
   ]
  },
  {
   "cell_type": "code",
   "execution_count": 2,
   "id": "671cb339",
   "metadata": {},
   "outputs": [],
   "source": [
    "import tensorflow as tf\n",
    "from tensorflow import keras\n",
    "from tensorflow.keras.preprocessing.image import ImageDataGenerator\n",
    "import numpy as np\n",
    "import matplotlib.pyplot as plt\n",
    "import os\n",
    "import shutil\n",
    "import random\n",
    "from sklearn.metrics import confusion_matrix"
   ]
  },
  {
   "cell_type": "markdown",
   "id": "96e91f37",
   "metadata": {},
   "source": [
    "# Data preparation"
   ]
  },
  {
   "cell_type": "code",
   "execution_count": 8,
   "id": "e3cd90e6",
   "metadata": {},
   "outputs": [
    {
     "data": {
      "text/plain": [
       "['ripe', 'unripe']"
      ]
     },
     "execution_count": 8,
     "metadata": {},
     "output_type": "execute_result"
    }
   ],
   "source": [
    "# Set the path to the root directory of the orange dataset\n",
    "root_dir = r\"C:\\Users\\LENOVO\\Desktop\\Program files\\PycharmProjects\\Machine_vision_based_fruitSorting_system\\Data_collection\\DataCollected\\oranges\"\n",
    "\n",
    "os.listdir(root_dir)"
   ]
  },
  {
   "cell_type": "code",
   "execution_count": 9,
   "id": "61d00527",
   "metadata": {},
   "outputs": [],
   "source": [
    "# Create the train, validation, and test directories\n",
    "train_dir = os.path.join(root_dir, 'train')\n",
    "os.makedirs(train_dir, exist_ok=True)\n",
    "valid_dir = os.path.join(root_dir, 'valid')\n",
    "os.makedirs(valid_dir, exist_ok=True)\n",
    "test_dir = os.path.join(root_dir, 'test')\n",
    "os.makedirs(test_dir, exist_ok=True)"
   ]
  },
  {
   "cell_type": "code",
   "execution_count": 10,
   "id": "9ebb8a88",
   "metadata": {},
   "outputs": [
    {
     "data": {
      "text/plain": [
       "['ripe', 'test', 'train', 'unripe', 'valid']"
      ]
     },
     "execution_count": 10,
     "metadata": {},
     "output_type": "execute_result"
    }
   ],
   "source": [
    "os.listdir(root_dir)"
   ]
  },
  {
   "cell_type": "code",
   "execution_count": 11,
   "id": "69ca88cd",
   "metadata": {},
   "outputs": [],
   "source": [
    "# Define the split ratios\n",
    "train_ratio = 0.7\n",
    "valid_ratio = 0.15\n",
    "test_ratio = 0.15\n",
    "\n",
    "# Loop through the classes (ripe and unripe) and split the data\n",
    "for class_name in os.listdir(root_dir):\n",
    "    if class_name in [\"ripe\", \"unripe\"]:\n",
    "        class_dir = os.path.join(root_dir, class_name)\n",
    "        if os.path.isdir(class_dir):\n",
    "            file_list = os.listdir(class_dir)\n",
    "            random.shuffle(file_list)\n",
    "            num_files = len(file_list)\n",
    "            num_train = int(num_files * train_ratio)\n",
    "            num_valid = int(num_files * valid_ratio)\n",
    "            train_files = file_list[:num_train]\n",
    "            valid_files = file_list[num_train:num_train+num_valid]\n",
    "            test_files = file_list[num_train+num_valid:]\n",
    "            for file_name in train_files:\n",
    "                src_path = os.path.join(class_dir, file_name)\n",
    "                dst_path = os.path.join(train_dir, class_name, file_name)\n",
    "                os.makedirs(os.path.dirname(dst_path), exist_ok=True)\n",
    "                shutil.copyfile(src_path, dst_path)\n",
    "            for file_name in valid_files:\n",
    "                src_path = os.path.join(class_dir, file_name)\n",
    "                dst_path = os.path.join(valid_dir, class_name, file_name)\n",
    "                os.makedirs(os.path.dirname(dst_path), exist_ok=True)\n",
    "                shutil.copyfile(src_path, dst_path)\n",
    "            for file_name in test_files:\n",
    "                src_path = os.path.join(class_dir, file_name)\n",
    "                dst_path = os.path.join(test_dir, class_name, file_name)\n",
    "                os.makedirs(os.path.dirname(dst_path), exist_ok=True)\n",
    "                shutil.copyfile(src_path, dst_path)"
   ]
  },
  {
   "cell_type": "code",
   "execution_count": null,
   "id": "35978b2e",
   "metadata": {},
   "outputs": [],
   "source": []
  },
  {
   "cell_type": "code",
   "execution_count": 13,
   "id": "45036711",
   "metadata": {},
   "outputs": [
    {
     "name": "stdout",
     "output_type": "stream",
     "text": [
      "Found 1340 images belonging to 2 classes.\n",
      "Found 287 images belonging to 2 classes.\n"
     ]
    }
   ],
   "source": [
    "# Set up the data generators\n",
    "train_datagen = ImageDataGenerator(rescale=1./255)\n",
    "valid_datagen = ImageDataGenerator(rescale=1./255)\n",
    "\n",
    "train_dir = r\"C:\\Users\\LENOVO\\Desktop\\Program files\\PycharmProjects\\Machine_vision_based_fruitSorting_system\\Data_collection\\DataCollected\\oranges\\train\"\n",
    "valid_dir = r\"C:\\Users\\LENOVO\\Desktop\\Program files\\PycharmProjects\\Machine_vision_based_fruitSorting_system\\Data_collection\\DataCollected\\oranges\\valid\"\n",
    "\n",
    "train_generator = train_datagen.flow_from_directory(train_dir, target_size=(150, 150),\n",
    "                                                    batch_size=20, class_mode='binary')\n",
    "\n",
    "valid_generator = valid_datagen.flow_from_directory(valid_dir, target_size=(150, 150),\n",
    "                                                    batch_size=20, class_mode='binary')"
   ]
  },
  {
   "cell_type": "markdown",
   "id": "586fc966",
   "metadata": {},
   "source": [
    "# model architecture"
   ]
  },
  {
   "cell_type": "code",
   "execution_count": 14,
   "id": "a39c7168",
   "metadata": {},
   "outputs": [],
   "source": [
    "model = keras.models.Sequential([\n",
    "    keras.layers.Conv2D(32, (3, 3), activation='relu', input_shape=(150, 150, 3)),\n",
    "    keras.layers.MaxPooling2D((2, 2)),\n",
    "    keras.layers.Conv2D(64, (3, 3), activation='relu'),\n",
    "    keras.layers.MaxPooling2D((2, 2)),\n",
    "    keras.layers.Flatten(),\n",
    "    keras.layers.Dense(64, activation='relu'),\n",
    "    keras.layers.Dense(1, activation='sigmoid')\n",
    "])"
   ]
  },
  {
   "cell_type": "code",
   "execution_count": 15,
   "id": "643201c8",
   "metadata": {},
   "outputs": [],
   "source": [
    "model.compile(loss='binary_crossentropy', optimizer='adam', metrics=['accuracy'])"
   ]
  },
  {
   "cell_type": "code",
   "execution_count": 16,
   "id": "74a6cafb",
   "metadata": {},
   "outputs": [
    {
     "name": "stdout",
     "output_type": "stream",
     "text": [
      "Epoch 1/3\n",
      " 67/100 [===================>..........] - ETA: 37s - loss: 0.1631 - accuracy: 0.9201WARNING:tensorflow:Your input ran out of data; interrupting training. Make sure that your dataset or generator can generate at least `steps_per_epoch * epochs` batches (in this case, 300 batches). You may need to use the repeat() function when building your dataset.\n",
      "WARNING:tensorflow:Your input ran out of data; interrupting training. Make sure that your dataset or generator can generate at least `steps_per_epoch * epochs` batches (in this case, 50 batches). You may need to use the repeat() function when building your dataset.\n",
      "100/100 [==============================] - 101s 892ms/step - loss: 0.1631 - accuracy: 0.9201 - val_loss: 0.0064 - val_accuracy: 0.9965\n"
     ]
    }
   ],
   "source": [
    "history = model.fit(train_generator, steps_per_epoch=100, epochs=3,\n",
    "                    validation_data=valid_generator, validation_steps=50)"
   ]
  },
  {
   "cell_type": "markdown",
   "id": "0af14a46",
   "metadata": {},
   "source": [
    "# Visualiing train and validation loss"
   ]
  },
  {
   "cell_type": "code",
   "execution_count": 17,
   "id": "5a970777",
   "metadata": {},
   "outputs": [
    {
     "data": {
      "image/png": "[encoded data removed]",
      "text/plain": [
       "<Figure size 640x480 with 1 Axes>"
      ]
     },
     "metadata": {},
     "output_type": "display_data"
    },
    {
     "data": {
      "image/png": "[encoded data removed]",
      "text/plain": [
       "<Figure size 640x480 with 1 Axes>"
      ]
     },
     "metadata": {},
     "output_type": "display_data"
    }
   ],
   "source": [
    "# Plot the training and validation loss\n",
    "loss = history.history['loss']\n",
    "val_loss = history.history['val_loss']\n",
    "epochs = range(1, len(loss) + 1)\n",
    "plt.plot(epochs, loss, 'bo', label='Training loss')\n",
    "plt.plot(epochs, val_loss, 'b', label='Validation loss')\n",
    "plt.title('Training and validation loss')\n",
    "plt.xlabel('Epochs')\n",
    "plt.ylabel('Loss')\n",
    "plt.legend()\n",
    "plt.show()\n",
    "\n",
    "# Plot the training and validation accuracy\n",
    "acc = history.history['accuracy']\n",
    "val_acc = history.history['val_accuracy']\n",
    "plt.plot(epochs, acc, 'bo', label='Training acc')\n",
    "plt.plot(epochs, val_acc, 'b', label='Validation acc')\n",
    "plt.title('Training and validation accuracy')\n",
    "plt.xlabel('Epochs')\n",
    "plt.ylabel('Accuracy')\n",
    "plt.legend()\n",
    "plt.show()"
   ]
  },
  {
   "cell_type": "markdown",
   "id": "e39c4adb",
   "metadata": {},
   "source": [
    "# model evaluation"
   ]
  },
  {
   "cell_type": "code",
   "execution_count": 20,
   "id": "1a37bcd7",
   "metadata": {},
   "outputs": [
    {
     "name": "stdout",
     "output_type": "stream",
     "text": [
      "Found 289 images belonging to 2 classes.\n",
      "10/10 [==============================] - 2s 230ms/step - loss: 0.0077 - accuracy: 0.9950\n",
      "Test accuracy: 0.9950000047683716\n"
     ]
    }
   ],
   "source": [
    "test_dir = r\"C:\\Users\\LENOVO\\Desktop\\Program files\\PycharmProjects\\Machine_vision_based_fruitSorting_system\\Data_collection\\DataCollected\\oranges\\test\"\n",
    "\n",
    "test_datagen = ImageDataGenerator(rescale=1./255)\n",
    "\n",
    "test_generator = test_datagen.flow_from_directory(test_dir, target_size=(150, 150),\n",
    "                                                  batch_size=20, class_mode='binary')\n",
    "\n",
    "test_loss, test_acc = model.evaluate(test_generator, steps=10)\n",
    "\n",
    "print('Test accuracy:', test_acc)"
   ]
  },
  {
   "cell_type": "code",
   "execution_count": 21,
   "id": "210e6e9d",
   "metadata": {},
   "outputs": [
    {
     "name": "stdout",
     "output_type": "stream",
     "text": [
      "15/15 [==============================] - 4s 231ms/step\n",
      "Confusion matrix:\n",
      "[[74 69]\n",
      " [70 76]]\n"
     ]
    }
   ],
   "source": [
    "# Generate predictions for the test set\n",
    "test_generator.reset()\n",
    "Y_pred = model.predict(test_generator, steps=len(test_generator), verbose=1)\n",
    "y_pred = np.round(Y_pred)\n",
    "\n",
    "# Get the true labels\n",
    "Y_true = test_generator.classes\n",
    "\n",
    "# Generate the confusion matrix\n",
    "cm = confusion_matrix(Y_true, y_pred)\n",
    "\n",
    "print('Confusion matrix:')\n",
    "print(cm)"
   ]
  },
  {
   "cell_type": "markdown",
   "id": "4f5726e7",
   "metadata": {},
   "source": [
    "# saving the trained model"
   ]
  },
  {
   "cell_type": "code",
   "execution_count": 22,
   "id": "178105c1",
   "metadata": {},
   "outputs": [],
   "source": [
    "model.save('orange_classifier.h5')"
   ]
  },
  {
   "cell_type": "code",
   "execution_count": null,
   "id": "66c7a472",
   "metadata": {},
   "outputs": [],
   "source": []
  }
 ],
 "metadata": {
  "kernelspec": {
   "display_name": "Python 3 (ipykernel)",
   "language": "python",
   "name": "python3"
  },
  "language_info": {
   "codemirror_mode": {
    "name": "ipython",
    "version": 3
   },
   "file_extension": ".py",
   "mimetype": "text/x-python",
   "name": "python",
   "nbconvert_exporter": "python",
   "pygments_lexer": "ipython3",
   "version": "3.9.13"
  }
 },
 "nbformat": 4,
 "nbformat_minor": 5
}
